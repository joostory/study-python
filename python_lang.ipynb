{
  "cells": [
    {
      "cell_type": "markdown",
      "metadata": {
        "id": "vCib45uy_5f7"
      },
      "source": [
        "# 개요\n",
        "목표: [파이썬 자습서](https://docs.python.org/ko/3/tutorial/index.html)를 따라가며 통계분석에 활용가능한 수준으로 파이썬을 학습한다."
      ]
    },
    {
      "cell_type": "markdown",
      "metadata": {
        "id": "uherTN25CUk1"
      },
      "source": [
        "## 사용방법\n",
        "\n",
        "파이썬을 직접 설치하거나 [Colaboratory (Colab)](https://colab.research.google.com/)를 사용할 수 있다.\n",
        "\n",
        "### 설치\n",
        "\n",
        "맥OS와 Linux에는 Python3이 설치되어 있다. 터미널에서 python3을 입력하는 것으로 바로 인터프리터를 실행할 수 있다. vscode, vim, emacs 등의 에디터를 통해 코드 자동완성 기능과 같은 도움을 받을 수 있다.\n",
        "\n",
        "### Colab\n",
        "\n",
        "구글이 제공하는 온라인 Jupyter 노트북으로 웹 상에서 Python 코드를 실행하고 결과를 볼 수 있다."
      ]
    },
    {
      "cell_type": "markdown",
      "metadata": {
        "id": "EJZmvYw8Ek4V"
      },
      "source": [
        "# 파이썬 시작하기"
      ]
    },
    {
      "cell_type": "code",
      "execution_count": null,
      "metadata": {
        "colab": {
          "base_uri": "https://localhost:8080/"
        },
        "id": "kD69YpT1OvkL",
        "outputId": "339208f7-da90-455e-f523-57ad18b5866e"
      },
      "outputs": [
        {
          "name": "stdout",
          "output_type": "stream",
          "text": [
            "4\n",
            "20\n",
            "5.0\n",
            "1.6\n"
          ]
        }
      ],
      "source": [
        "spam = 1\n",
        "text = \"This is text\"\n",
        "\n",
        "print(2+2)\n",
        "print(50 - 5*6)\n",
        "print((50 - 5*6) / 4)\n",
        "print(8/5)"
      ]
    },
    {
      "cell_type": "markdown",
      "metadata": {
        "id": "37GTNMYShnWw"
      },
      "source": [
        "## 숫자"
      ]
    },
    {
      "cell_type": "code",
      "execution_count": null,
      "metadata": {
        "colab": {
          "base_uri": "https://localhost:8080/"
        },
        "id": "hVwCMNfjQ4c9",
        "outputId": "4f7ea38f-d23e-42cf-d490-71ca79ed55e9"
      },
      "outputs": [
        {
          "name": "stdout",
          "output_type": "stream",
          "text": [
            "5.666666666666667\n",
            "5\n",
            "2\n",
            "17\n",
            "25\n",
            "128\n"
          ]
        }
      ],
      "source": [
        "print(17 / 3)\n",
        "print(17 // 3)\n",
        "print(17 % 3)\n",
        "print(5 * 3 + 2)\n",
        "\n",
        "print(5 ** 2)\n",
        "print(2 ** 7)"
      ]
    },
    {
      "cell_type": "code",
      "execution_count": null,
      "metadata": {
        "colab": {
          "base_uri": "https://localhost:8080/"
        },
        "id": "-VcG4h-uRNlj",
        "outputId": "3257f60f-afe7-4484-d850-1b463b35e945"
      },
      "outputs": [
        {
          "name": "stdout",
          "output_type": "stream",
          "text": [
            "900\n"
          ]
        }
      ],
      "source": [
        "width = 20\n",
        "height = 5 * 9\n",
        "print(width * height)"
      ]
    },
    {
      "cell_type": "markdown",
      "metadata": {
        "id": "GWvCjqFhhqUH"
      },
      "source": [
        "## 문자열"
      ]
    },
    {
      "cell_type": "code",
      "execution_count": null,
      "metadata": {
        "colab": {
          "base_uri": "https://localhost:8080/"
        },
        "id": "ufFzNPg-RccZ",
        "outputId": "d8d30acc-379d-403a-99cc-719563804149"
      },
      "outputs": [
        {
          "name": "stdout",
          "output_type": "stream",
          "text": [
            "\"NO!\" I don't know.\n",
            "C:\\some\n",
            "ame\n",
            "C:\\some\\name\n"
          ]
        }
      ],
      "source": [
        "print('\"NO!\" I don\\'t know.')\n",
        "print('C:\\some\\name')\n",
        "print(r'C:\\some\\name')"
      ]
    },
    {
      "cell_type": "code",
      "execution_count": null,
      "metadata": {
        "colab": {
          "base_uri": "https://localhost:8080/"
        },
        "id": "Z6hpJZXDTw-d",
        "outputId": "8adac08c-c86d-481e-a919-423fbf0ec2bd"
      },
      "outputs": [
        {
          "name": "stdout",
          "output_type": "stream",
          "text": [
            "안녕하세요.\n",
            "반갑습니다.\n",
            "\n",
            "안녕하세요.\n",
            "반갑습니다.\n",
            "\n"
          ]
        }
      ],
      "source": [
        "print(\"안녕하세요.\\n반갑습니다.\")\n",
        "print(\"\"\"\n",
        "안녕하세요.\n",
        "반갑습니다.\n",
        "\"\"\")"
      ]
    },
    {
      "cell_type": "code",
      "execution_count": null,
      "metadata": {
        "colab": {
          "base_uri": "https://localhost:8080/"
        },
        "id": "2TSyHxlDfUZF",
        "outputId": "8c6d830d-a73c-49a4-f2f0-d0a45b55553c"
      },
      "outputs": [
        {
          "name": "stdout",
          "output_type": "stream",
          "text": [
            "안녕하세요반갑습니다\n"
          ]
        }
      ],
      "source": [
        "print(\"안녕하세요\" \"반갑습니다\")"
      ]
    },
    {
      "cell_type": "code",
      "execution_count": null,
      "metadata": {
        "id": "nPFBlO1pfZjE"
      },
      "outputs": [],
      "source": [
        "prefix = \"안녕하세요\"\n",
        "# print(prefix \"반갑습니다\") # 오류 발생함"
      ]
    },
    {
      "cell_type": "code",
      "execution_count": null,
      "metadata": {
        "colab": {
          "base_uri": "https://localhost:8080/"
        },
        "id": "m-u0QUDTfn3h",
        "outputId": "bf7c1b13-edd6-4146-b6e5-b033ae7bc15d"
      },
      "outputs": [
        {
          "name": "stdout",
          "output_type": "stream",
          "text": [
            "안녕하세요반갑습니다\n",
            "안녕하세요안녕하세요안녕하세요\n"
          ]
        }
      ],
      "source": [
        "prefix = \"안녕하세요\"\n",
        "print(prefix + \"반갑습니다\")\n",
        "print(prefix * 3)"
      ]
    },
    {
      "cell_type": "code",
      "execution_count": null,
      "metadata": {
        "colab": {
          "base_uri": "https://localhost:8080/"
        },
        "id": "Mz5lD4Lz_-dG",
        "outputId": "0a338da1-8694-4435-f869-fb0fbb1910b7"
      },
      "outputs": [
        {
          "name": "stdout",
          "output_type": "stream",
          "text": [
            "thon\n",
            "\n",
            "th\n",
            "n\n",
            "thon\n",
            "6\n"
          ]
        }
      ],
      "source": [
        "word = 'Python'\n",
        "print(word[2:])\n",
        "print(word[6:])\n",
        "print(word[2:4])\n",
        "print(word[-1])\n",
        "print(word[-4:])\n",
        "print(len(word))"
      ]
    },
    {
      "cell_type": "markdown",
      "metadata": {
        "id": "cad1ewvK_jTa"
      },
      "source": [
        "## 리스트"
      ]
    },
    {
      "cell_type": "code",
      "execution_count": null,
      "metadata": {
        "colab": {
          "base_uri": "https://localhost:8080/"
        },
        "id": "-Jey4xTz_ov1",
        "outputId": "a11baa79-f0ff-4237-d3e0-1032f74633a8"
      },
      "outputs": [
        {
          "name": "stdout",
          "output_type": "stream",
          "text": [
            "[9, 16, 25]\n",
            "[1, 4, 9, 16, 25]\n",
            "[1, 4, 9, 16, 25, 36, 49, 64, 81, 100]\n",
            "[1, 4, 9, 16, 25, 216]\n"
          ]
        }
      ],
      "source": [
        "squares = [1, 4, 9, 16, 25]\n",
        "print(squares[-3:])\n",
        "print(squares[:])\n",
        "print(squares + [36, 49, 64, 81, 100])\n",
        "squares.append(216)\n",
        "print(squares)"
      ]
    },
    {
      "cell_type": "code",
      "execution_count": null,
      "metadata": {
        "colab": {
          "base_uri": "https://localhost:8080/"
        },
        "id": "AmYkT86TCRTk",
        "outputId": "c601bdcf-537b-48ef-fb18-e9c31cbc3186"
      },
      "outputs": [
        {
          "name": "stdout",
          "output_type": "stream",
          "text": [
            "['a', 'b', 'C', 'D', 'E', 'f']\n",
            "[]\n"
          ]
        }
      ],
      "source": [
        "letters = ['a', 'b', 'c', 'd', 'e', 'f']\n",
        "letters[2:5] = ['C', 'D', 'E']\n",
        "print(letters)\n",
        "letters[:] = []\n",
        "print(letters)"
      ]
    },
    {
      "cell_type": "markdown",
      "metadata": {
        "id": "M-gkvVAA4X04"
      },
      "source": [
        "## 제어흐름"
      ]
    },
    {
      "cell_type": "markdown",
      "metadata": {
        "id": "7bQiMwHX4X04"
      },
      "source": [
        "### if 문"
      ]
    },
    {
      "cell_type": "code",
      "execution_count": null,
      "metadata": {
        "id": "GQCo-1mq4X04",
        "outputId": "48cc5cbd-d306-4b8e-8f73-e23dc3549194"
      },
      "outputs": [
        {
          "name": "stdout",
          "output_type": "stream",
          "text": [
            "Single\n"
          ]
        }
      ],
      "source": [
        "x = 1\n",
        "if x < 0:\n",
        "  x = 0\n",
        "  print('Negative')\n",
        "elif x == 0:\n",
        "  print('Zero')\n",
        "elif x == 1:\n",
        "  print('Single')\n",
        "else:\n",
        "  print('More')"
      ]
    },
    {
      "cell_type": "markdown",
      "metadata": {
        "id": "OYSche6S4X04"
      },
      "source": [
        "### for 문"
      ]
    },
    {
      "cell_type": "code",
      "execution_count": null,
      "metadata": {
        "id": "1ufJsbp44X05",
        "outputId": "abd9c5e6-ba49-4ed6-86d7-902a4902cff6"
      },
      "outputs": [
        {
          "name": "stdout",
          "output_type": "stream",
          "text": [
            "고양이 3\n",
            "창문 2\n",
            "window 6\n"
          ]
        }
      ],
      "source": [
        "words = ['고양이', '창문', 'window']\n",
        "for w in words:\n",
        "  print(w, len(w))"
      ]
    },
    {
      "cell_type": "code",
      "execution_count": null,
      "metadata": {
        "id": "jaeXqvNz4X05",
        "outputId": "b301db6f-6b9d-44aa-d7ab-7a83a41539e9"
      },
      "outputs": [
        {
          "name": "stdout",
          "output_type": "stream",
          "text": [
            "{'A': 'active', 'B': 'inactive', 'C': 'active'}\n",
            "{'A': 'active', 'C': 'active'}\n"
          ]
        }
      ],
      "source": [
        "users = {\n",
        "  'A': 'active',\n",
        "  'B': 'inactive',\n",
        "  'C': 'active'\n",
        "}\n",
        "print(users)\n",
        "\n",
        "for user, status in users.copy().items():\n",
        "  if status == 'inactive':\n",
        "    del users[user]\n",
        "\n",
        "print(users)"
      ]
    },
    {
      "cell_type": "markdown",
      "metadata": {
        "id": "D2EcMVbF4X05"
      },
      "source": [
        "### range() 함수"
      ]
    },
    {
      "cell_type": "code",
      "execution_count": null,
      "metadata": {
        "id": "KcAEEsEl4X05",
        "outputId": "1163c319-20cc-4569-c035-894612ce7537"
      },
      "outputs": [
        {
          "name": "stdout",
          "output_type": "stream",
          "text": [
            "0\n",
            "1\n",
            "2\n",
            "3\n",
            "4\n"
          ]
        }
      ],
      "source": [
        "for i in range(5):\n",
        "  print(i)"
      ]
    },
    {
      "cell_type": "code",
      "execution_count": null,
      "metadata": {
        "id": "xZINRJbP4X05",
        "outputId": "d4df6731-59df-49ee-f4f5-4d9bf7a3cff9"
      },
      "outputs": [
        {
          "name": "stdout",
          "output_type": "stream",
          "text": [
            "[5, 6, 7, 8, 9]\n",
            "[0, 3, 6, 9]\n",
            "[-10, -40, -70]\n"
          ]
        }
      ],
      "source": [
        "print(list(range(5, 10)))\n",
        "print(list(range(0, 10, 3)))\n",
        "print(list(range(-10, -100, -30)))"
      ]
    },
    {
      "cell_type": "code",
      "execution_count": null,
      "metadata": {
        "id": "CoviAuCM4X06",
        "outputId": "3d3d414a-0574-4f2c-da2f-12e2b524d5c8"
      },
      "outputs": [
        {
          "name": "stdout",
          "output_type": "stream",
          "text": [
            "0 Merry\n",
            "1 Christmas\n",
            "2 And\n",
            "3 Happy\n",
            "4 new\n",
            "5 year\n"
          ]
        }
      ],
      "source": [
        "a = ['Merry', 'Christmas', 'And', 'Happy', 'new', 'year']\n",
        "for i in range(len(a)):\n",
        "  print(i, a[i])"
      ]
    },
    {
      "cell_type": "code",
      "execution_count": null,
      "metadata": {
        "id": "NZE_lMLT4X06",
        "outputId": "111e10b3-5652-421e-82ef-04ea4cad5098"
      },
      "outputs": [
        {
          "name": "stdout",
          "output_type": "stream",
          "text": [
            "range(0, 11)\n",
            "55\n"
          ]
        }
      ],
      "source": [
        "print(range(11))\n",
        "print(sum(range(11)))"
      ]
    },
    {
      "cell_type": "markdown",
      "metadata": {
        "id": "h_VAloDC4X06"
      },
      "source": [
        "### 루프의 break, continue문, else절"
      ]
    },
    {
      "cell_type": "code",
      "execution_count": null,
      "metadata": {
        "id": "FnPl-lq44X06",
        "outputId": "7e406017-2215-4562-dfea-c7a67ab6ed32"
      },
      "outputs": [
        {
          "name": "stdout",
          "output_type": "stream",
          "text": [
            "2 은 소수다.\n",
            "3 은 소수다.\n",
            "4 equals 2 * 2\n",
            "5 은 소수다.\n",
            "6 equals 2 * 3\n",
            "7 은 소수다.\n",
            "8 equals 2 * 4\n",
            "9 equals 3 * 3\n"
          ]
        }
      ],
      "source": [
        "for n in range(2, 10):\n",
        "  for x in range(2, n):\n",
        "    if (n % x) == 0:\n",
        "      print(n, 'equals', x, '*', n // x)\n",
        "      break\n",
        "  else:\n",
        "    print(n, '은 소수다.')"
      ]
    },
    {
      "cell_type": "code",
      "execution_count": null,
      "metadata": {
        "id": "YIhVOSlG4X06",
        "outputId": "9752efcb-909a-4b53-c25f-54af5213e163"
      },
      "outputs": [
        {
          "name": "stdout",
          "output_type": "stream",
          "text": [
            "짝수 2\n",
            "홀수 3\n",
            "짝수 4\n",
            "홀수 5\n",
            "짝수 6\n",
            "홀수 7\n",
            "짝수 8\n",
            "홀수 9\n"
          ]
        }
      ],
      "source": [
        "for num in range(2, 10):\n",
        "  if num % 2 == 0:\n",
        "    print(\"짝수\", num)\n",
        "    continue\n",
        "  print(\"홀수\", num)"
      ]
    },
    {
      "cell_type": "markdown",
      "metadata": {
        "id": "b51tbQ_F4X06"
      },
      "source": [
        "### pass 문"
      ]
    },
    {
      "cell_type": "code",
      "execution_count": null,
      "metadata": {
        "id": "Ue6Y6XyV4X06"
      },
      "outputs": [],
      "source": [
        "for n in range(2, 5):\n",
        "  pass"
      ]
    },
    {
      "cell_type": "code",
      "execution_count": null,
      "metadata": {
        "id": "6h_dWwLK4X07"
      },
      "outputs": [],
      "source": [
        "class EmptyClass:\n",
        "  pass\n",
        "\n",
        "def do_something():\n",
        "  pass # TODO 여기에 뭔가를 해라"
      ]
    },
    {
      "cell_type": "markdown",
      "metadata": {
        "id": "rvlGY_h94X07"
      },
      "source": [
        "### match 문"
      ]
    },
    {
      "cell_type": "code",
      "execution_count": null,
      "metadata": {
        "id": "Gg9CrB8C4X07",
        "outputId": "c2bac25f-af4f-4263-c3be-1c3355df590c"
      },
      "outputs": [
        {
          "name": "stdout",
          "output_type": "stream",
          "text": [
            "Wow\n"
          ]
        }
      ],
      "source": [
        "x = 10\n",
        "match x:\n",
        "  case x if x < 0:\n",
        "    print('Negative')\n",
        "  case 0:\n",
        "    print('Zero')\n",
        "  case 1:\n",
        "    print('Single')\n",
        "  case 10 | 100 | 1000:\n",
        "    print('Wow')\n",
        "  case _:\n",
        "    print('More')"
      ]
    },
    {
      "cell_type": "code",
      "execution_count": null,
      "metadata": {
        "id": "xjbDdE2i4X07",
        "outputId": "97c7c66e-2981-474a-e483-f83b0b2c7cf7"
      },
      "outputs": [
        {
          "name": "stdout",
          "output_type": "stream",
          "text": [
            "X=1, Y=2\n"
          ]
        }
      ],
      "source": [
        "point = (1, 2)\n",
        "match point:\n",
        "    case (0, 0):\n",
        "        print(\"Origin\")\n",
        "    case (0, y):\n",
        "        print(f\"Y={y}\")\n",
        "    case (x, 0):\n",
        "        print(f\"X={x}\")\n",
        "    case (x, y):\n",
        "        print(f\"X={x}, Y={y}\")\n",
        "    case _:\n",
        "        raise ValueError(\"Not a point\")"
      ]
    },
    {
      "cell_type": "markdown",
      "metadata": {
        "id": "ytnjlzyH4X07"
      },
      "source": [
        "### 함수 정의"
      ]
    },
    {
      "cell_type": "code",
      "execution_count": null,
      "metadata": {
        "id": "7trY2hS74X07",
        "outputId": "1bca5ec9-4244-4d0e-b7b4-7bbb70df22fe"
      },
      "outputs": [
        {
          "name": "stdout",
          "output_type": "stream",
          "text": [
            "Negative\n",
            "More\n",
            "Zero\n",
            "Single\n"
          ]
        }
      ],
      "source": [
        "def what_x_is(x):\n",
        "  if x < 0:\n",
        "    x = 0\n",
        "    print('Negative')\n",
        "  elif x == 0:\n",
        "    print('Zero')\n",
        "  elif x == 1:\n",
        "    print('Single')\n",
        "  else:\n",
        "    print('More')\n",
        "\n",
        "what_x_is(-19)\n",
        "what_x_is(10)\n",
        "what_x_is(0)\n",
        "\n",
        "do = what_x_is\n",
        "do(1)"
      ]
    },
    {
      "cell_type": "code",
      "execution_count": null,
      "metadata": {
        "id": "qBZFQKAc4X08",
        "outputId": "bf513450-50ae-48fe-b913-9ad2a5cd47cf"
      },
      "outputs": [
        {
          "name": "stdout",
          "output_type": "stream",
          "text": [
            "Origin\n",
            "X=1\n",
            "Y=1\n"
          ]
        }
      ],
      "source": [
        "def match_point(x, y = 0):\n",
        "  point = (x, y)\n",
        "  match point:\n",
        "    case (0, 0):\n",
        "      print(\"Origin\")\n",
        "    case (0, y):\n",
        "      print(f\"Y={y}\")\n",
        "    case (x, 0):\n",
        "      print(f\"X={x}\")\n",
        "    case (x, y):\n",
        "      print(f\"X={x}, Y={y}\")\n",
        "    case _:\n",
        "      raise ValueError(\"Not a point\")\n",
        "\n",
        "match_point(0, 0)\n",
        "match_point(1)\n",
        "match_point(x = 0, y = 1)"
      ]
    },
    {
      "cell_type": "code",
      "execution_count": null,
      "metadata": {
        "id": "kXHAjwK84X08",
        "outputId": "08a2556c-7ef3-42f9-fa0f-006b9ee7d9ba"
      },
      "outputs": [
        {
          "name": "stdout",
          "output_type": "stream",
          "text": [
            "Hello 1\n",
            "Hello 2\n",
            "Hello 3\n",
            "Hello 4\n",
            "Hello 5\n",
            "Hello a A\n",
            "Hello b A\n",
            "Hello 1\n",
            "Hello 2\n",
            "Hello 3\n",
            "Hello 1\n",
            "Hello 2\n",
            "Hello 3\n"
          ]
        }
      ],
      "source": [
        "def print_anything(prefix, *arguments, **keywords):\n",
        "  for argument in arguments:\n",
        "    print(prefix, argument)\n",
        "\n",
        "  for keyword in keywords:\n",
        "    print(prefix, keyword, keywords[keyword])\n",
        "\n",
        "print_anything(\"Hello\", 1, 2, 3, 4, 5, a='A', b='A')\n",
        "\n",
        "args = [1, 2, 3]\n",
        "print_anything(\"Hello\", 1, 2, 3)\n",
        "print_anything(\"Hello\", *args)"
      ]
    },
    {
      "cell_type": "markdown",
      "metadata": {
        "id": "nnk3gjyq4X08"
      },
      "source": [
        "### 람다 표현식"
      ]
    },
    {
      "cell_type": "code",
      "execution_count": null,
      "metadata": {
        "id": "KF7lOSzq4X08",
        "outputId": "e037a1fc-7ae9-425a-ea4a-a510a85f1ccc"
      },
      "outputs": [
        {
          "name": "stdout",
          "output_type": "stream",
          "text": [
            "13\n",
            "13\n"
          ]
        }
      ],
      "source": [
        "def incrementor(x):\n",
        "  return x + 10\n",
        "\n",
        "print(incrementor(3))\n",
        "\n",
        "def make_incrementor(n):\n",
        "  return lambda x: x + n\n",
        "\n",
        "f = make_incrementor(10)\n",
        "print(f(3))"
      ]
    },
    {
      "cell_type": "markdown",
      "metadata": {
        "id": "4oxdu1oW4X08"
      },
      "source": [
        "### 도큐멘테이션 문자열"
      ]
    },
    {
      "cell_type": "code",
      "execution_count": null,
      "metadata": {
        "id": "ibjfrQuI4X08",
        "outputId": "ecc16e65-4c8a-496d-e0a2-5e133ad6c0b1"
      },
      "outputs": [
        {
          "name": "stdout",
          "output_type": "stream",
          "text": [
            "이 함수는 도큐멘테이션 테스트용 함수입니다.\n",
            "  아무 내용도 없어요.\n",
            "  \n"
          ]
        }
      ],
      "source": [
        "def my_function():\n",
        "  \"\"\"이 함수는 도큐멘테이션 테스트용 함수입니다.\n",
        "  아무 내용도 없어요.\n",
        "  \"\"\"\n",
        "  pass\n",
        "\n",
        "print(my_function.__doc__)"
      ]
    },
    {
      "cell_type": "markdown",
      "metadata": {
        "id": "vkWjkVhE4X08"
      },
      "source": [
        "### 함수 어노테이션"
      ]
    },
    {
      "cell_type": "code",
      "execution_count": null,
      "metadata": {
        "id": "vGHW4rew4X08",
        "outputId": "17ecfc0a-39f9-4a2d-fb44-4a6444786eb8"
      },
      "outputs": [
        {
          "name": "stdout",
          "output_type": "stream",
          "text": [
            "Annotations: {'ham': <class 'str'>, 'eggs': <class 'str'>, 'return': <class 'str'>}\n",
            "Arguments: spam eggs\n"
          ]
        },
        {
          "data": {
            "text/plain": [
              "'spam and eggs'"
            ]
          },
          "execution_count": 3,
          "metadata": {},
          "output_type": "execute_result"
        }
      ],
      "source": [
        "def f(ham: str, eggs: str = 'eggs') -> str:\n",
        "    print(\"Annotations:\", f.__annotations__)\n",
        "    print(\"Arguments:\", ham, eggs)\n",
        "    return ham + ' and ' + eggs\n",
        "\n",
        "f('spam')"
      ]
    },
    {
      "cell_type": "markdown",
      "metadata": {
        "id": "i_MM0JGe4X08"
      },
      "source": [
        "## 자료구조"
      ]
    },
    {
      "cell_type": "code",
      "execution_count": null,
      "metadata": {
        "id": "ggFF2c1p4X09",
        "outputId": "ed9641ad-0c70-4144-c5de-7d2fa3b506d4"
      },
      "outputs": [
        {
          "name": "stdout",
          "output_type": "stream",
          "text": [
            "2\n",
            "0\n",
            "3\n",
            "6\n",
            "['banana', 'apple', 'kiwi', 'banana', 'pear', 'apple', 'orange']\n",
            "['banana', 'apple', 'kiwi', 'banana', 'pear', 'apple', 'orange', 'grape']\n",
            "['apple', 'apple', 'banana', 'banana', 'grape', 'kiwi', 'orange', 'pear']\n",
            "pear\n",
            "['apple', 'apple', 'banana', 'banana', 'grape', 'kiwi', 'orange']\n"
          ]
        }
      ],
      "source": [
        "fruits = ['orange', 'apple', 'pear', 'banana', 'kiwi', 'apple', 'banana']\n",
        "print(fruits.count('apple'))\n",
        "\n",
        "print(fruits.count('tangerine'))\n",
        "\n",
        "print(fruits.index('banana'))\n",
        "\n",
        "print(fruits.index('banana', 4))  # Find next banana starting at position 4\n",
        "\n",
        "fruits.reverse()\n",
        "print(fruits)\n",
        "\n",
        "fruits.append('grape')\n",
        "print(fruits)\n",
        "\n",
        "fruits.sort()\n",
        "print(fruits)\n",
        "\n",
        "print(fruits.pop())\n",
        "print(fruits)"
      ]
    },
    {
      "cell_type": "markdown",
      "metadata": {
        "id": "qnA3DJBe4X09"
      },
      "source": [
        "### 리스트 컴프리헨션"
      ]
    },
    {
      "cell_type": "code",
      "execution_count": null,
      "metadata": {
        "id": "YKK58BH34X09",
        "outputId": "a4409a49-81e8-49eb-d0b8-8153b46fe63e"
      },
      "outputs": [
        {
          "name": "stdout",
          "output_type": "stream",
          "text": [
            "[0, 1, 4, 9, 16, 25, 36, 49, 64, 81]\n",
            "[0, 1, 4, 9, 16, 25, 36, 49, 64, 81]\n",
            "[0, 1, 4, 9, 16, 25, 36, 49, 64, 81]\n"
          ]
        }
      ],
      "source": [
        "squares = []\n",
        "for x in range(10):\n",
        "  squares.append(x**2)\n",
        "\n",
        "print(squares)\n",
        "print(list(map(lambda x: x**2, range(10))))\n",
        "print([x**2 for x in range(10)])"
      ]
    },
    {
      "cell_type": "code",
      "execution_count": null,
      "metadata": {
        "id": "bscmOdW34X09",
        "outputId": "6139fceb-3c08-4126-89a0-d9e143a0b763"
      },
      "outputs": [
        {
          "name": "stdout",
          "output_type": "stream",
          "text": [
            "[(1, 3), (1, 4), (2, 1), (2, 3), (2, 4), (3, 1), (3, 4)]\n",
            "[(1, 3), (1, 4), (2, 1), (2, 3), (2, 4), (3, 1), (3, 4)]\n"
          ]
        }
      ],
      "source": [
        "print([(x, y) for x in [1,2,3] for y in [1,3,4] if x != y])\n",
        "\n",
        "combs = []\n",
        "for x in [1,2,3]:\n",
        "  for y in [1,3,4]:\n",
        "    if x != y:\n",
        "      combs.append((x, y))\n",
        "print(combs)"
      ]
    },
    {
      "cell_type": "code",
      "execution_count": null,
      "metadata": {
        "id": "HJ35KFWm4X09",
        "outputId": "c0670903-e83c-439a-e922-45fd45f36319"
      },
      "outputs": [
        {
          "name": "stdout",
          "output_type": "stream",
          "text": [
            "[[1, 5, 9], [2, 6, 10], [3, 7, 11], [4, 8, 12]]\n",
            "[(1, 5, 9), (2, 6, 10), (3, 7, 11), (4, 8, 12)]\n"
          ]
        }
      ],
      "source": [
        "matrix = [\n",
        "  [1, 2, 3, 4],\n",
        "  [5, 6, 7, 8],\n",
        "  [9, 10, 11, 12],\n",
        "]\n",
        "print([[row[i] for row in matrix] for i in range(4)])\n",
        "print(list(zip(*matrix)))"
      ]
    },
    {
      "cell_type": "markdown",
      "metadata": {
        "id": "41ea9uq84X09"
      },
      "source": [
        "### 튜플, 집합, 딕셔너리"
      ]
    },
    {
      "cell_type": "code",
      "execution_count": null,
      "metadata": {
        "id": "WaUx6pIi4X09",
        "outputId": "50911ec4-7c06-4c5a-aaf4-4b6cad156c24"
      },
      "outputs": [
        {
          "name": "stdout",
          "output_type": "stream",
          "text": [
            "1 2 3\n",
            "{'a'}\n",
            "{'c', 'e', 'a', 'f', 'b', 'd'}\n",
            "{'b', 'e', 'd', 'c'}\n",
            "{'a', 'f'}\n",
            "c c\n",
            "e e\n",
            "a f\n",
            "b b\n",
            "d d\n",
            "{'a': 1, 'b': 2, 'c': 3}\n",
            "{1: 1, 2: 4, 3: 9, 4: 16, 5: 25, 6: 36, 7: 49, 8: 64, 9: 81}\n",
            "1 1\n",
            "2 4\n",
            "3 9\n",
            "4 16\n",
            "5 25\n",
            "6 36\n",
            "7 49\n",
            "8 64\n",
            "9 81\n"
          ]
        }
      ],
      "source": [
        "a, b, c = (1, 2, 3)\n",
        "print(a, b, c)\n",
        "\n",
        "a = set('abcde')\n",
        "b = set('bcdef')\n",
        "print(a - b)\n",
        "print(a | b)\n",
        "print(a & b)\n",
        "print(a ^ b)\n",
        "for va, vb in zip(a, b):\n",
        "  print(va, vb)\n",
        "\n",
        "print(dict([('a', 1), ('b', 2), ('c', 3)]))\n",
        "values = {x: x**2 for x in range(1, 10)}\n",
        "print(values)\n",
        "for x, value in values.items():\n",
        "  print(x, value)\n",
        "\n"
      ]
    },
    {
      "cell_type": "markdown",
      "metadata": {
        "id": "r1w1llbt4X09"
      },
      "source": [
        "## 입력과 출력"
      ]
    },
    {
      "cell_type": "code",
      "source": [
        "year = 2022\n",
        "event = 'Christmas'\n",
        "f'Results of {year} {event}'"
      ],
      "metadata": {
        "id": "8xwmEbqP6CbZ",
        "outputId": "1ce1a604-46d6-41eb-df5c-f38fe2cbcebe",
        "colab": {
          "base_uri": "https://localhost:8080/",
          "height": 36
        }
      },
      "execution_count": 1,
      "outputs": [
        {
          "output_type": "execute_result",
          "data": {
            "text/plain": [
              "'Results of 2022 Christmas'"
            ],
            "application/vnd.google.colaboratory.intrinsic+json": {
              "type": "string"
            }
          },
          "metadata": {},
          "execution_count": 1
        }
      ]
    },
    {
      "cell_type": "code",
      "source": [
        "yes_votes = 42_572_654\n",
        "no_votes = 43_132_495\n",
        "percentage = yes_votes / (yes_votes + no_votes)\n",
        "print('{:-9} YES votes  {:2.2%}'.format(yes_votes, percentage))\n",
        "print(f'{yes_votes:-9} YES votes  {percentage:2.2%}')"
      ],
      "metadata": {
        "id": "FzvQRKeJ6fVR",
        "outputId": "5f75caa0-4e17-4e1c-f575-48e47a15a5e0",
        "colab": {
          "base_uri": "https://localhost:8080/"
        }
      },
      "execution_count": 3,
      "outputs": [
        {
          "output_type": "stream",
          "name": "stdout",
          "text": [
            " 42572654 YES votes  49.67%\n",
            " 42572654 YES votes  49.67%\n"
          ]
        }
      ]
    },
    {
      "cell_type": "code",
      "source": [
        "animals = 'eels'\n",
        "print(f'My hovercraft is full of {animals}.')\n",
        "print(f'My hovercraft is full of {animals!r}.')\n",
        "print(f'My hovercraft is full of {animals!s}.')\n",
        "print(f'My hovercraft is full of {animals!a}.')"
      ],
      "metadata": {
        "id": "LGXgzepQ7JeE",
        "outputId": "d3c178d2-113c-491c-d457-9ee25d30a609",
        "colab": {
          "base_uri": "https://localhost:8080/"
        }
      },
      "execution_count": 4,
      "outputs": [
        {
          "output_type": "stream",
          "name": "stdout",
          "text": [
            "My hovercraft is full of eels.\n",
            "My hovercraft is full of 'eels'.\n",
            "My hovercraft is full of eels.\n",
            "My hovercraft is full of 'eels'.\n"
          ]
        }
      ]
    },
    {
      "cell_type": "markdown",
      "source": [
        "## 예외"
      ],
      "metadata": {
        "id": "wVWHzJU97vNH"
      }
    },
    {
      "cell_type": "code",
      "source": [
        "class B(Exception):\n",
        "    pass\n",
        "\n",
        "class C(B):\n",
        "    pass\n",
        "\n",
        "class D(C):\n",
        "    pass\n",
        "\n",
        "for cls in [B, C, D]:\n",
        "    try:\n",
        "        raise cls()\n",
        "    except D:\n",
        "        print(\"D\")\n",
        "    except C:\n",
        "        print(\"C\")\n",
        "    except B:\n",
        "        print(\"B\")"
      ],
      "metadata": {
        "id": "ciV1SUlD7xsQ",
        "outputId": "668153e6-f7d8-4395-919f-eaff94518433",
        "colab": {
          "base_uri": "https://localhost:8080/"
        }
      },
      "execution_count": 5,
      "outputs": [
        {
          "output_type": "stream",
          "name": "stdout",
          "text": [
            "B\n",
            "C\n",
            "D\n"
          ]
        }
      ]
    },
    {
      "cell_type": "code",
      "source": [
        "def func():\n",
        "    raise ConnectionError\n",
        "\n",
        "try:\n",
        "    func()\n",
        "except ConnectionError as exc:\n",
        "    raise RuntimeError('Failed to open database') from exc"
      ],
      "metadata": {
        "id": "FUBoT0PP7_kV",
        "outputId": "610a0b84-c81d-44e7-ea63-2e3a16de09bf",
        "colab": {
          "base_uri": "https://localhost:8080/",
          "height": 424
        }
      },
      "execution_count": 6,
      "outputs": [
        {
          "output_type": "error",
          "ename": "RuntimeError",
          "evalue": "ignored",
          "traceback": [
            "\u001b[0;31m---------------------------------------------------------------------------\u001b[0m",
            "\u001b[0;31mConnectionError\u001b[0m                           Traceback (most recent call last)",
            "\u001b[0;32m<ipython-input-6-d7352cebcbcd>\u001b[0m in \u001b[0;36m<module>\u001b[0;34m\u001b[0m\n\u001b[1;32m      4\u001b[0m \u001b[0;32mtry\u001b[0m\u001b[0;34m:\u001b[0m\u001b[0;34m\u001b[0m\u001b[0;34m\u001b[0m\u001b[0m\n\u001b[0;32m----> 5\u001b[0;31m     \u001b[0mfunc\u001b[0m\u001b[0;34m(\u001b[0m\u001b[0;34m)\u001b[0m\u001b[0;34m\u001b[0m\u001b[0;34m\u001b[0m\u001b[0m\n\u001b[0m\u001b[1;32m      6\u001b[0m \u001b[0;32mexcept\u001b[0m \u001b[0mConnectionError\u001b[0m \u001b[0;32mas\u001b[0m \u001b[0mexc\u001b[0m\u001b[0;34m:\u001b[0m\u001b[0;34m\u001b[0m\u001b[0;34m\u001b[0m\u001b[0m\n",
            "\u001b[0;32m<ipython-input-6-d7352cebcbcd>\u001b[0m in \u001b[0;36mfunc\u001b[0;34m()\u001b[0m\n\u001b[1;32m      1\u001b[0m \u001b[0;32mdef\u001b[0m \u001b[0mfunc\u001b[0m\u001b[0;34m(\u001b[0m\u001b[0;34m)\u001b[0m\u001b[0;34m:\u001b[0m\u001b[0;34m\u001b[0m\u001b[0;34m\u001b[0m\u001b[0m\n\u001b[0;32m----> 2\u001b[0;31m     \u001b[0;32mraise\u001b[0m \u001b[0mConnectionError\u001b[0m\u001b[0;34m\u001b[0m\u001b[0;34m\u001b[0m\u001b[0m\n\u001b[0m\u001b[1;32m      3\u001b[0m \u001b[0;34m\u001b[0m\u001b[0m\n",
            "\u001b[0;31mConnectionError\u001b[0m: ",
            "\nThe above exception was the direct cause of the following exception:\n",
            "\u001b[0;31mRuntimeError\u001b[0m                              Traceback (most recent call last)",
            "\u001b[0;32m<ipython-input-6-d7352cebcbcd>\u001b[0m in \u001b[0;36m<module>\u001b[0;34m\u001b[0m\n\u001b[1;32m      5\u001b[0m     \u001b[0mfunc\u001b[0m\u001b[0;34m(\u001b[0m\u001b[0;34m)\u001b[0m\u001b[0;34m\u001b[0m\u001b[0;34m\u001b[0m\u001b[0m\n\u001b[1;32m      6\u001b[0m \u001b[0;32mexcept\u001b[0m \u001b[0mConnectionError\u001b[0m \u001b[0;32mas\u001b[0m \u001b[0mexc\u001b[0m\u001b[0;34m:\u001b[0m\u001b[0;34m\u001b[0m\u001b[0;34m\u001b[0m\u001b[0m\n\u001b[0;32m----> 7\u001b[0;31m     \u001b[0;32mraise\u001b[0m \u001b[0mRuntimeError\u001b[0m\u001b[0;34m(\u001b[0m\u001b[0;34m'Failed to open database'\u001b[0m\u001b[0;34m)\u001b[0m \u001b[0;32mfrom\u001b[0m \u001b[0mexc\u001b[0m\u001b[0;34m\u001b[0m\u001b[0;34m\u001b[0m\u001b[0m\n\u001b[0m",
            "\u001b[0;31mRuntimeError\u001b[0m: Failed to open database"
          ]
        }
      ]
    }
  ],
  "metadata": {
    "colab": {
      "provenance": [],
      "toc_visible": true
    },
    "kernelspec": {
      "display_name": "env",
      "language": "python",
      "name": "python3"
    },
    "language_info": {
      "codemirror_mode": {
        "name": "ipython",
        "version": 3
      },
      "file_extension": ".py",
      "mimetype": "text/x-python",
      "name": "python",
      "nbconvert_exporter": "python",
      "pygments_lexer": "ipython3",
      "version": "3.10.6"
    },
    "vscode": {
      "interpreter": {
        "hash": "91bb681d6039f812444fe4332c38eed64355c35cac510a4360272e0902073ca5"
      }
    }
  },
  "nbformat": 4,
  "nbformat_minor": 0
}